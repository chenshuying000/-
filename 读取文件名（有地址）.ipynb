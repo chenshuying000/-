{
 "cells": [
  {
   "cell_type": "code",
   "execution_count": 8,
   "metadata": {},
   "outputs": [
    {
     "name": "stdout",
     "output_type": "stream",
     "text": [
      "G:\\毕设备份\\文献\\论应急物流体系的构建及其运作管理_谢如鹤.pdf\n",
      "G:\\毕设备份\\文献\\国务院办公厅.docx\n",
      "G:\\毕设备份\\文献\\论自然灾害应急物流管理体系的构建 (1).pdf\n",
      "G:\\毕设备份\\文献\\应急物流系统及其快速反应机制研究.pdf\n",
      "G:\\毕设备份\\文献\\基于大数据的共享物流信息平台模型研究_程琳.pdf\n",
      "G:\\毕设备份\\文献\\基于数据仓库技术的应急物流信息系统架构研究.pdf\n",
      "G:\\毕设备份\\文献\\基于双重不确定性的应急物流配送策略.pdf\n",
      "G:\\毕设备份\\文献\\Python语言_程序设计课程教学改革的理想选择_嵩天.pdf\n",
      "G:\\毕设备份\\文献\\我国应急物流的现状分析与对策.pdf\n",
      "G:\\毕设备份\\文献\\共享物流发展模式及路径优化研究_王姿力.pdf\n",
      "G:\\毕设备份\\文献\\数据库子系统的设计研究——以应急物流为例.pdf\n",
      "G:\\毕设备份\\文献\\Emergency Logistics Theory Model and Method A Review and Further Research Directions.pdf\n",
      "G:\\毕设备份\\文献\\Emergency Logistics Planning in Natural Disasters.pdf\n",
      "G:\\毕设备份\\文献\\气象信息共享平台及其关键技术研究_李集明.pdf\n",
      "G:\\毕设备份\\文献\\我国应急物流现状及系统优化.pdf\n",
      "G:\\毕设备份\\文献\\基于大数据云计算的智慧物流模式重构_李佳.pdf\n",
      "G:\\毕设备份\\文献\\Optimization models in emergency logistics A literature review.pdf\n",
      "G:\\毕设备份\\文献\\Emergency logistics for disaster management under spatio temporal demand correlation The earthquakes case.pdf\n",
      "G:\\毕设备份\\文献\\应急物流_五跨_综合指挥调度平台商业模式研究_王启华.caj\n",
      "G:\\毕设备份\\文献\\应急物流预案管理系统的设计与实现_李树涛.caj\n",
      "G:\\毕设备份\\文献\\城市轨道交通系统信息共享平台研究_徐杰.pdf\n",
      "G:\\毕设备份\\文献\\应急物流体系构建研究.pdf\n",
      "G:\\毕设备份\\文献\\基于云计算的物流信息平台的设计与实现_姜宗品.pdf\n",
      "G:\\毕设备份\\文献\\应急物流中应急物资的管理研究.pdf\n",
      "G:\\毕设备份\\文献\\An emergency logistics distribution approach for quick response to urgent relief demand in disasters.pdf\n",
      "G:\\毕设备份\\文献\\Emergency logistics planning under supply risk and demand uncertainty.pdf\n",
      "G:\\毕设备份\\文献\\应急物流物资筹备配送子系统的设计与实现_徐任飞.caj\n",
      "G:\\毕设备份\\文献\\面向应急物流的数据汇聚系统的设计与实现_康绍舜.caj\n",
      "G:\\毕设备份\\文献\\基于信息集成平台的业务整合与数据共享方案_刘博.pdf\n",
      "G:\\毕设备份\\文献\\应急物流中的信息系统建设_王文亮.pdf\n",
      "G:\\毕设备份\\文献\\基于物联网技术的物流信息共享平台设计_曾瑞瑜.pdf\n",
      "G:\\毕设备份\\文献\\面向自然灾害的应急物流信息系统构建.pdf\n",
      "G:\\毕设备份\\文献\\Stochastic network models for logistics planning in disaster relief.pdf\n",
      "G:\\毕设备份\\文献\\Constructing Emergency Logistics Technology System Based on System Requirement Engineering.pdf\n",
      "G:\\毕设备份\\文献\\应急物流指挥调度与实时跟踪系统的设计与实现_包晓芳.caj\n",
      "G:\\毕设备份\\文献\\基于云计算的铁路信息共享平台及关键技术研究_张莉艳.caj\n",
      "G:\\毕设备份\\文献\\应急物流信息系统构建研究.pdf\n",
      "G:\\毕设备份\\文献\\The Design and Implement of China-Japan-South Korea Logistics Information Platform Based on Information Service Exchange.pdf\n",
      "G:\\毕设备份\\文献\\基于物联网对物流共享平台中信息资源的安全性及保密性的探.pdf\n",
      "G:\\毕设备份\\文献\\Heuristic approaches for the multiperiod location-transportation problem with reuse of vehicles in emergency logistics.pdf\n",
      "G:\\毕设备份\\文献\\An emergency logistics distribution routing model.pdf\n",
      "G:\\毕设备份\\文献\\基于区块链的共享物流信息平台研究_孙增乐.caj\n",
      "G:\\毕设备份\\文献\\1基于快递资源共享平台的资源配置研究_闫雅文.caj\n",
      "G:\\毕设备份\\文献\\国民经济动员物流网络及应变响应研究_商丽媛.caj\n",
      "G:\\毕设备份\\文献\\基于共享物流信息平台的运输仓储模式分析_孙增乐.pdf\n",
      "G:\\毕设备份\\文献\\基于模糊灰色综合评价方法的应急物流能力评价.pdf\n",
      "G:\\毕设备份\\文献\\基于双层规划的震后初期应急物流系统优化.pdf\n",
      "G:\\毕设备份\\文献\\基于网格的应急物流信息网络平台研究_商丽媛.pdf\n",
      "G:\\毕设备份\\文献\\基于云平台的供应保障及应急系统研究_张茜.caj\n",
      "G:\\毕设备份\\文献\\基于云生态的物流信息平台服务模式创新研究_邢大宁.pdf\n",
      "G:\\毕设备份\\文献\\论自然灾害应急物流管理体系的构建.pdf\n"
     ]
    }
   ],
   "source": [
    "#coding=utf-8\n",
    "import os\n",
    " \n",
    "def GetFileList(dir, fileList):\n",
    "  newDir = dir\n",
    "  if os.path.isfile(dir):\n",
    "    fileList.append(dir.encode('utf-8').decode('utf-8'))\n",
    "  elif os.path.isdir(dir): \n",
    "    for s in os.listdir(dir):\n",
    "      newDir=os.path.join(dir,s)\n",
    "      GetFileList(newDir, fileList) \n",
    "  return fileList\n",
    " \n",
    "list = GetFileList('G:\\毕设备份\\文献', [])\n",
    "for e in list:\n",
    "  print(e)"
   ]
  },
  {
   "cell_type": "code",
   "execution_count": null,
   "metadata": {},
   "outputs": [],
   "source": []
  }
 ],
 "metadata": {
  "kernelspec": {
   "display_name": "Python 3",
   "language": "python",
   "name": "python3"
  },
  "language_info": {
   "codemirror_mode": {
    "name": "ipython",
    "version": 3
   },
   "file_extension": ".py",
   "mimetype": "text/x-python",
   "name": "python",
   "nbconvert_exporter": "python",
   "pygments_lexer": "ipython3",
   "version": "3.7.1"
  }
 },
 "nbformat": 4,
 "nbformat_minor": 2
}
